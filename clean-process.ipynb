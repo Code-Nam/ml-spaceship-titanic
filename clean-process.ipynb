{
 "cells": [
  {
   "cell_type": "code",
   "execution_count": 2,
   "id": "2889389d",
   "metadata": {},
   "outputs": [],
   "source": [
    "import pandas as pd\n",
    "import matplotlib.pyplot as plt\n",
    "import numpy as np\n",
    "\n",
    "df_train = pd.read_csv('data/train.csv')\n",
    "\n",
    "# Dropped named deemed irrelevant for prediction\n",
    "df_train = df_train.drop(columns=['Name'])"
   ]
  },
  {
   "cell_type": "markdown",
   "id": "7f2e0c97",
   "metadata": {},
   "source": [
    "# Observation\n",
    "\n",
    "People within the same group (i.e., sharing the same GroupId) often share the same HomePlanet. This suggests that filling missing HomePlanet values based on group information could improve data quality."
   ]
  },
  {
   "cell_type": "code",
   "execution_count": 3,
   "id": "cc729ad1",
   "metadata": {},
   "outputs": [
    {
     "name": "stdout",
     "output_type": "stream",
     "text": [
      "Mean of same Home Planet based on Group: 100.0\n"
     ]
    }
   ],
   "source": [
    "df_train['Group'] = df_train['PassengerId'].str.split('_').str[0]\n",
    "\n",
    "def same_value_percentage(series):\n",
    "  counts = series.value_counts(dropna=True)\n",
    "  max_count = counts.max()\n",
    "  total_count = counts.sum()\n",
    "  return max_count / total_count * 100\n",
    "\n",
    "percentages_home_planet = df_train.groupby('Group')['HomePlanet'].apply(same_value_percentage, include_groups=False).reset_index()\n",
    "print(f'Mean of same Home Planet based on Group: {percentages_home_planet[\"HomePlanet\"].mean()}')"
   ]
  },
  {
   "cell_type": "markdown",
   "id": "16da5c65",
   "metadata": {},
   "source": [
    "## Fill Home Planet based on Group"
   ]
  },
  {
   "cell_type": "code",
   "execution_count": 4,
   "id": "d2761e78",
   "metadata": {},
   "outputs": [
    {
     "name": "stdout",
     "output_type": "stream",
     "text": [
      "PassengerId       0\n",
      "HomePlanet        0\n",
      "CryoSleep       217\n",
      "Cabin           199\n",
      "Destination     182\n",
      "Age             179\n",
      "VIP             203\n",
      "RoomService     181\n",
      "FoodCourt       183\n",
      "ShoppingMall    208\n",
      "Spa             183\n",
      "VRDeck          188\n",
      "Transported       0\n",
      "dtype: int64\n"
     ]
    }
   ],
   "source": [
    "def fill_group_home_planet(group):\n",
    "  choices_home_planet = [\"Earth\", \"Europa\", \"Mars\"]\n",
    "  # check if any non-missing values exist in the group\n",
    "  if group['HomePlanet'].notna().any():\n",
    "    # fill missing values with the most common HomePlanet in the group\n",
    "    group['HomePlanet'] = group['HomePlanet'].fillna(group['HomePlanet'].dropna().iloc[0])\n",
    "  else:\n",
    "    group['HomePlanet'] = group['HomePlanet'].fillna(np.random.choice(choices_home_planet))\n",
    "  return group\n",
    "\n",
    "df_train = df_train.groupby('Group').apply(fill_group_home_planet, include_groups = False).reset_index(drop=True)\n",
    "print(df_train.isna().sum())"
   ]
  },
  {
   "cell_type": "code",
   "execution_count": 5,
   "id": "3f0b14c8",
   "metadata": {},
   "outputs": [],
   "source": [
    "spending_cols = [\"RoomService\", \"FoodCourt\", \"ShoppingMall\", \"Spa\", \"VRDeck\"]\n",
    "total_spending_col = df_train['TotalSpending'] = df_train[spending_cols].sum(axis=1, skipna=True)"
   ]
  },
  {
   "cell_type": "markdown",
   "id": "8fe04ef8",
   "metadata": {},
   "source": [
    "# Observation\n",
    "\n",
    "The passengers who were cryosleeping did not spend any money on amenities like RoomService, FoodCourt, ShoppingMall, Spa, or VRDeck. This indicates that if a passenger has non-zero spending in these categories, they likely were not in cryosleep and vice versa."
   ]
  },
  {
   "cell_type": "code",
   "execution_count": 6,
   "id": "d76805f3",
   "metadata": {},
   "outputs": [
    {
     "name": "stdout",
     "output_type": "stream",
     "text": [
      "           count         mean\n",
      "CryoSleep                    \n",
      "False       5439  2248.299687\n",
      "True        3037     0.000000\n"
     ]
    }
   ],
   "source": [
    "result = df_train.groupby('CryoSleep')['TotalSpending'].agg(['count', 'mean'])\n",
    "print(result)"
   ]
  },
  {
   "cell_type": "markdown",
   "id": "23cfc1b4",
   "metadata": {},
   "source": [
    "# Fill NaN CryoSleep values based on spending"
   ]
  },
  {
   "cell_type": "code",
   "execution_count": 7,
   "id": "85999f3c",
   "metadata": {
    "vscode": {
     "languageId": "ruby"
    }
   },
   "outputs": [
    {
     "name": "stdout",
     "output_type": "stream",
     "text": [
      "PassengerId        0\n",
      "HomePlanet         0\n",
      "CryoSleep          0\n",
      "Cabin            199\n",
      "Destination      182\n",
      "Age              179\n",
      "VIP              203\n",
      "RoomService      181\n",
      "FoodCourt        183\n",
      "ShoppingMall     208\n",
      "Spa              183\n",
      "VRDeck           188\n",
      "Transported        0\n",
      "TotalSpending      0\n",
      "dtype: int64\n"
     ]
    }
   ],
   "source": [
    "mask_cryosleep_nan = df_train['CryoSleep'].isna()\n",
    "\n",
    "df_train.loc[mask_cryosleep_nan, 'CryoSleep'] = total_spending_col[mask_cryosleep_nan].gt(0).map({True: False, False: True})\n",
    "\n",
    "print(df_train.isna().sum())"
   ]
  },
  {
   "cell_type": "markdown",
   "id": "4a284b9e",
   "metadata": {},
   "source": [
    "# Observation\n",
    "\n",
    "- Passengers with an age below 13 don't spend any money on amenities like RoomService, FoodCourt, ShoppingMall, Spa, or VRDeck. This suggests that passengers falling below 13 won't have any spending in these categories.\n",
    "\n",
    "- Passengers with an age below 13 don't have VIP status. This indicates that passengers under 13 are not considered VIPs."
   ]
  },
  {
   "cell_type": "code",
   "execution_count": 8,
   "id": "ac5610ad",
   "metadata": {
    "vscode": {
     "languageId": "ruby"
    }
   },
   "outputs": [
    {
     "data": {
      "image/png": "[encoded data removed]",
      "text/plain": [
       "<Figure size 640x480 with 1 Axes>"
      ]
     },
     "metadata": {},
     "output_type": "display_data"
    }
   ],
   "source": [
    "kids = df_train[df_train[\"Age\"] < 13]\n",
    "\n",
    "total_spending_kids = kids[spending_cols].sum(axis=1, skipna=True)\n",
    "\n",
    "plt.hist(total_spending_kids, edgecolor='black')\n",
    "\n",
    "plt.title(\"Distribution of Total Spendings (Age < 13)\")\n",
    "plt.xlabel(\"Total Spending\")\n",
    "plt.ylabel(\"Number of Passengers\")\n",
    "plt.show()"
   ]
  },
  {
   "cell_type": "code",
   "execution_count": 9,
   "id": "396914b3",
   "metadata": {
    "vscode": {
     "languageId": "ruby"
    }
   },
   "outputs": [
    {
     "data": {
      "image/png": "[encoded data removed]",
      "text/plain": [
       "<Figure size 600x400 with 1 Axes>"
      ]
     },
     "metadata": {},
     "output_type": "display_data"
    }
   ],
   "source": [
    "# Count VIP and non-VIP kids\n",
    "vip_counts = kids[\"VIP\"].value_counts()\n",
    "\n",
    "# Plot bar chart\n",
    "plt.figure(figsize=(6,4))\n",
    "vip_counts.plot(kind='bar', color=['skyblue', 'orange'], edgecolor='black')\n",
    "\n",
    "plt.title(\"Number of VIP vs Non-VIP Kids (Age < 13)\")\n",
    "plt.xlabel(\"VIP Status\")\n",
    "plt.ylabel(\"Number of Passengers\")\n",
    "plt.xticks(ticks=[0,1], labels=['Non-VIP', 'VIP'], rotation=0)\n",
    "plt.show()"
   ]
  },
  {
   "cell_type": "markdown",
   "id": "f3b40efb",
   "metadata": {},
   "source": [
    "# Fill NaN spending cols values based on passenger age < 13 & crysleep == True"
   ]
  },
  {
   "cell_type": "code",
   "execution_count": 10,
   "id": "be1dc11e",
   "metadata": {
    "vscode": {
     "languageId": "ruby"
    }
   },
   "outputs": [
    {
     "name": "stdout",
     "output_type": "stream",
     "text": [
      "PassengerId        0\n",
      "HomePlanet         0\n",
      "CryoSleep          0\n",
      "Cabin            199\n",
      "Destination      182\n",
      "Age              179\n",
      "VIP              203\n",
      "RoomService      107\n",
      "FoodCourt        106\n",
      "ShoppingMall     101\n",
      "Spa              113\n",
      "VRDeck           105\n",
      "Transported        0\n",
      "TotalSpending      0\n",
      "dtype: int64\n"
     ]
    }
   ],
   "source": [
    "kids_and_cryosleeping_mask = (\n",
    "    (df_train[\"Age\"] < 13) |\n",
    "    (df_train[\"CryoSleep\"] == True) |\n",
    "    # This condition ensures we only target rows where all spending columns are NaN\n",
    "    (df_train[spending_cols].isna().all(axis=1))\n",
    ")\n",
    "df_train.loc[kids_and_cryosleeping_mask, spending_cols] = 0\n",
    "print(df_train.isna().sum())"
   ]
  },
  {
   "cell_type": "code",
   "execution_count": 12,
   "id": "2575faa8",
   "metadata": {
    "vscode": {
     "languageId": "ruby"
    }
   },
   "outputs": [
    {
     "name": "stdout",
     "output_type": "stream",
     "text": [
      "PassengerId        0\n",
      "HomePlanet         0\n",
      "CryoSleep          0\n",
      "Cabin            199\n",
      "Destination      182\n",
      "Age              179\n",
      "VIP              179\n",
      "RoomService      107\n",
      "FoodCourt        106\n",
      "ShoppingMall     101\n",
      "Spa              113\n",
      "VRDeck           105\n",
      "Transported        0\n",
      "TotalSpending      0\n",
      "dtype: int64\n"
     ]
    }
   ],
   "source": [
    "kids_non_vip_mask = df_train[\"Age\"] < 13\n",
    "df_train.loc[kids_non_vip_mask, \"VIP\"] = False\n",
    "print(df_train.isna().sum())"
   ]
  },
  {
   "cell_type": "code",
   "execution_count": 19,
   "id": "fbab9ead",
   "metadata": {
    "vscode": {
     "languageId": "ruby"
    }
   },
   "outputs": [
    {
     "name": "stdout",
     "output_type": "stream",
     "text": [
      "6560\n"
     ]
    }
   ],
   "source": [
    "print(df_train[\"Cabin\"].nunique())"
   ]
  }
 ],
 "metadata": {
  "kernelspec": {
   "display_name": ".venv",
   "language": "python",
   "name": "python3"
  },
  "language_info": {
   "codemirror_mode": {
    "name": "ipython",
    "version": 3
   },
   "file_extension": ".py",
   "mimetype": "text/x-python",
   "name": "python",
   "nbconvert_exporter": "python",
   "pygments_lexer": "ipython3",
   "version": "3.13.3"
  }
 },
 "nbformat": 4,
 "nbformat_minor": 5
}
