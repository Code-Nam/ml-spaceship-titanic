{
 "cells": [
  {
   "cell_type": "code",
   "execution_count": null,
   "id": "2889389d",
   "metadata": {},
   "outputs": [
    {
     "name": "stderr",
     "output_type": "stream",
     "text": [
      "/tmp/ipykernel_15701/3700051651.py:28: FutureWarning: DataFrameGroupBy.apply operated on the grouping columns. This behavior is deprecated, and in a future version of pandas the grouping columns will be excluded from the operation. Either pass `include_groups=False` to exclude the groupings or explicitly select the grouping columns after groupby to silence this warning.\n",
      "  df = df.groupby('Group', group_keys=False).apply(fill_home_planet)\n"
     ]
    }
   ],
   "source": [
    "import pandas as pd\n",
    "import numpy as np\n",
    "from sklearn.ensemble import RandomForestClassifier\n",
    "from sklearn.model_selection import train_test_split\n",
    "from sklearn.metrics import accuracy_score\n",
    "\n",
    "df = pd.read_csv(\"data/train.csv\")\n",
    "\n",
    "#region --- Fill NaN HomePlanet based on Group ---\n",
    "\n",
    "df['Group'] = df['PassengerId'].str.split('_').str[0]\n",
    "choices_home_planet = [\"Earth\", \"Europa\", \"Mars\"]\n",
    "\n",
    "def fill_home_planet(group):\n",
    "    # If any non-missing values exist, use the first one\n",
    "    if group['HomePlanet'].notna().any():\n",
    "        fill_value = group['HomePlanet'].dropna().iloc[0]\n",
    "\n",
    "    else:\n",
    "        # Otherwise, pick a random planet\n",
    "        fill_value = np.random.choice(choices_home_planet)\n",
    "\n",
    "    # Fill missing values\n",
    "    group['HomePlanet'] = group['HomePlanet'].fillna(fill_value)\n",
    "    \n",
    "    return group\n",
    "\n",
    "df = df.groupby('Group', group_keys=False).apply(fill_home_planet)\n",
    "#endregion\n",
    "\n",
    "#region --- Fill NaN CryoSleep based on Spendings ---\n",
    "spending_cols = [\"RoomService\", \"FoodCourt\", \"ShoppingMall\", \"Spa\", \"VRDeck\"]\n",
    "total_spending_col = df['TotalSpending'] = df[spending_cols].sum(axis=1, skipna=True)\n",
    "mask_cryosleep_nan = df['CryoSleep'].isna()\n",
    "df.loc[mask_cryosleep_nan, 'CryoSleep'] = total_spending_col[mask_cryosleep_nan].gt(0).map({True: False, False: True})\n",
    "#endregion\n",
    "\n",
    "# Fill cols with 0 where NaN\n",
    "col_features = [\"RoomService\", \"Spa\", \"VRDeck\"]\n",
    "df[col_features] = df[col_features].fillna(0)\n",
    "\n",
    "kids_and_cryosleeping_mask = (\n",
    "    (df[\"Age\"] < 13) |\n",
    "    (df[\"CryoSleep\"] == True) |\n",
    "    # This condition ensures we only target rows where all spending columns are NaN\n",
    "    (df[spending_cols].isna().all(axis=1))\n",
    ")\n",
    "df.loc[kids_and_cryosleeping_mask, spending_cols] = 0"
   ]
  },
  {
   "cell_type": "code",
   "execution_count": 13,
   "id": "980a1420",
   "metadata": {},
   "outputs": [
    {
     "name": "stdout",
     "output_type": "stream",
     "text": [
      ":white_check_mark: Accuracy du modèle sur l'ensemble de validation : 78.44%\n"
     ]
    }
   ],
   "source": [
    "col_features = [\"CryoSleep\", \"RoomService\", \"Spa\", \"VRDeck\", \"FoodCourt\", \"ShoppingMall\"]\n",
    "X = pd.get_dummies(df[col_features])\n",
    "y = df[\"Transported\"]\n",
    "\n",
    "#! --- Split train / validation ---\n",
    "X_train, X_valid, y_train, y_valid = train_test_split(X, y, test_size=0.2, random_state=42)\n",
    "###\n",
    "\n",
    "# --- Modèle RandomForest ---\n",
    "model = RandomForestClassifier(n_estimators=200, max_depth=8, random_state=42)\n",
    "model.fit(X_train, y_train)\n",
    "\n",
    "prediction = model.predict(X_valid)\n",
    "\n",
    "accuracy = accuracy_score(y_valid, prediction)\n",
    "print(f\":white_check_mark: Accuracy du modèle sur l'ensemble de validation : {accuracy*100:.2f}%\")"
   ]
  },
  {
   "cell_type": "code",
   "execution_count": null,
   "id": "2b8dbf13",
   "metadata": {},
   "outputs": [],
   "source": [
    "\n",
    "# submission = pd.DataFrame({\n",
    "#     \"PassengerId\": df[\"PassengerId\"],\n",
    "#     \"Transported\": prediction\n",
    "# })\n",
    "\n",
    "# submission.to_csv(\"data/sample_submission.csv\", index=False)"
   ]
  }
 ],
 "metadata": {
  "kernelspec": {
   "display_name": ".venv",
   "language": "python",
   "name": "python3"
  },
  "language_info": {
   "codemirror_mode": {
    "name": "ipython",
    "version": 3
   },
   "file_extension": ".py",
   "mimetype": "text/x-python",
   "name": "python",
   "nbconvert_exporter": "python",
   "pygments_lexer": "ipython3",
   "version": "3.13.3"
  }
 },
 "nbformat": 4,
 "nbformat_minor": 5
}
