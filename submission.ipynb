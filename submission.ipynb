{
 "cells": [
  {
   "cell_type": "markdown",
   "id": "7f8d6d77",
   "metadata": {},
   "source": [
    "# 🔎 Analyze: Exploratory Data Analysis (EDA) for Spaceship Titanic\n",
    "\n",
    "This notebook guides a quick EDA of the dataset to understand features, missing values, and basic distributions.\n",
    "\n",
    "📘 Thought processes are provided in analyze and in the cleaning notebooks clean."
   ]
  },
  {
   "cell_type": "code",
   "execution_count": 9,
   "id": "26fe4fa2",
   "metadata": {},
   "outputs": [],
   "source": [
    "import pandas as pd\n",
    "import numpy as np\n",
    "from sklearn.ensemble import RandomForestClassifier\n",
    "from sklearn.model_selection import train_test_split\n",
    "from sklearn.metrics import accuracy_score"
   ]
  },
  {
   "cell_type": "code",
   "execution_count": 10,
   "id": "bf131637",
   "metadata": {},
   "outputs": [],
   "source": [
    "spending_cols = [\"RoomService\", \"FoodCourt\", \"ShoppingMall\", \"Spa\", \"VRDeck\"]\n",
    "feature_cols = [\"CryoSleep\", \"RoomService\", \"Spa\", \"VRDeck\", \"FoodCourt\", \"ShoppingMall\"]\n",
    "\n",
    "def preprocess(df):\n",
    "    df = df.copy()\n",
    "\n",
    "    # Total spending\n",
    "    df[\"TotalSpending\"] = df[spending_cols].sum(axis=1, skipna=True)\n",
    "\n",
    "    # Fill CryoSleep NaN deterministically from spending: if spend>0 -> False, else -> True\n",
    "    mask_cryo_nan = df[\"CryoSleep\"].isna()\n",
    "    df.loc[mask_cryo_nan, \"CryoSleep\"] = df.loc[mask_cryo_nan, \"TotalSpending\"].gt(0).map({True: False, False: True})\n",
    "\n",
    "    # If kid (<13) or CryoSleep True or all spendings NaN -> set spendings to 0\n",
    "    all_spend_nan = df[spending_cols].isna().all(axis=1)\n",
    "    mask_zero_spend = (df[\"Age\"].fillna(-1) < 13) | (df[\"CryoSleep\"] == True) | all_spend_nan\n",
    "    df.loc[mask_zero_spend, spending_cols] = df.loc[mask_zero_spend, spending_cols].fillna(0)\n",
    "\n",
    "    # Fill any remaining spending NaNs with 0\n",
    "    df[spending_cols] = df[spending_cols].fillna(0)\n",
    "\n",
    "    # Ensure boolean dtype\n",
    "    df[\"CryoSleep\"] = df[\"CryoSleep\"].astype(bool)\n",
    "\n",
    "    return df"
   ]
  },
  {
   "cell_type": "code",
   "execution_count": 11,
   "id": "5ad94d60",
   "metadata": {},
   "outputs": [],
   "source": [
    "train = pd.read_csv(\"data/train.csv\")\n",
    "test = pd.read_csv(\"data/test.csv\")\n",
    "\n",
    "train_p = preprocess(train)\n",
    "test_p  = preprocess(test)\n",
    "\n",
    "# Features/target\n",
    "X_train_full = pd.get_dummies(train_p[feature_cols])\n",
    "X_test_full  = pd.get_dummies(test_p[feature_cols])\n",
    "\n",
    "# Align columns between train and test\n",
    "X_train_full, X_test_full = X_train_full.align(X_test_full, join=\"outer\", axis=1, fill_value=0)\n",
    "\n",
    "y = train_p[\"Transported\"].astype(bool)"
   ]
  },
  {
   "cell_type": "code",
   "execution_count": 12,
   "id": "ca086c7c",
   "metadata": {},
   "outputs": [
    {
     "name": "stdout",
     "output_type": "stream",
     "text": [
      "Validation accuracy: 80.28%\n"
     ]
    }
   ],
   "source": [
    "X_tr, X_val, y_tr, y_val = train_test_split(X_train_full, y, test_size=0.2, random_state=42, stratify=y)\n",
    "\n",
    "model = RandomForestClassifier(n_estimators=200, max_depth=8, random_state=42)\n",
    "model.fit(X_tr, y_tr)\n",
    "\n",
    "val_pred = model.predict(X_val)\n",
    "val_acc = accuracy_score(y_val, val_pred)\n",
    "print(f\"Validation accuracy: {val_acc*100:.2f}%\")"
   ]
  },
  {
   "cell_type": "code",
   "execution_count": null,
   "id": "d24ab0cb",
   "metadata": {},
   "outputs": [
    {
     "name": "stdout",
     "output_type": "stream",
     "text": [
      "Wrote submission.csv\n"
     ]
    }
   ],
   "source": [
    "model.fit(X_train_full, y)\n",
    "test_pred = model.predict(X_test_full)\n",
    "\n",
    "submission = pd.DataFrame({\n",
    "    \"PassengerId\": test_p[\"PassengerId\"],\n",
    "    \"Transported\": test_pred\n",
    "})\n",
    "\n",
    "submission.to_csv(\"data/submission.csv\", index=False)\n",
    "print(\"Wrote submission.csv\")"
   ]
  }
 ],
 "metadata": {
  "kernelspec": {
   "display_name": ".venv",
   "language": "python",
   "name": "python3"
  },
  "language_info": {
   "codemirror_mode": {
    "name": "ipython",
    "version": 3
   },
   "file_extension": ".py",
   "mimetype": "text/x-python",
   "name": "python",
   "nbconvert_exporter": "python",
   "pygments_lexer": "ipython3",
   "version": "3.13.3"
  }
 },
 "nbformat": 4,
 "nbformat_minor": 5
}
